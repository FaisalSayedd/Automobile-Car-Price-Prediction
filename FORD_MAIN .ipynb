{
 "cells": [
  {
   "cell_type": "code",
   "execution_count": 1,
   "id": "RUJ-ztOXLK-M",
   "metadata": {
    "id": "RUJ-ztOXLK-M"
   },
   "outputs": [
    {
     "ename": "ModuleNotFoundError",
     "evalue": "No module named 'google.colab'",
     "output_type": "error",
     "traceback": [
      "\u001b[1;31m---------------------------------------------------------------------------\u001b[0m",
      "\u001b[1;31mModuleNotFoundError\u001b[0m                       Traceback (most recent call last)",
      "Cell \u001b[1;32mIn[1], line 1\u001b[0m\n\u001b[1;32m----> 1\u001b[0m \u001b[38;5;28;01mfrom\u001b[39;00m \u001b[38;5;21;01mgoogle\u001b[39;00m\u001b[38;5;21;01m.\u001b[39;00m\u001b[38;5;21;01mcolab\u001b[39;00m \u001b[38;5;28;01mimport\u001b[39;00m drive\n",
      "\u001b[1;31mModuleNotFoundError\u001b[0m: No module named 'google.colab'"
     ]
    }
   ],
   "source": [
    "from google.colab import drive"
   ]
  },
  {
   "cell_type": "code",
   "execution_count": null,
   "id": "gSrVB7j3LKlH",
   "metadata": {
    "colab": {
     "base_uri": "https://localhost:8080/"
    },
    "id": "gSrVB7j3LKlH",
    "outputId": "276267ba-8247-4bcf-97dc-78554d1dcf25"
   },
   "outputs": [],
   "source": [
    "drive.mount('/content/drive')"
   ]
  },
  {
   "cell_type": "markdown",
   "id": "4c54e6b2",
   "metadata": {
    "id": "4c54e6b2"
   },
   "source": [
    "# IMPORTING LIBRARIES"
   ]
  },
  {
   "cell_type": "code",
   "execution_count": 2,
   "id": "4a3c2b29",
   "metadata": {
    "id": "4a3c2b29"
   },
   "outputs": [],
   "source": [
    "import pandas as pd\n",
    "import numpy as np\n",
    "import matplotlib.pyplot as plt\n",
    "import seaborn as sns\n",
    "import warnings\n",
    "warnings.filterwarnings('ignore')"
   ]
  },
  {
   "cell_type": "code",
   "execution_count": null,
   "id": "820f47fc",
   "metadata": {
    "colab": {
     "base_uri": "https://localhost:8080/"
    },
    "id": "820f47fc",
    "outputId": "e9303cc0-ce98-4d6e-d6a0-762abc47412b"
   },
   "outputs": [],
   "source": [
    "pip install xgboost"
   ]
  },
  {
   "cell_type": "markdown",
   "id": "efe70ddf",
   "metadata": {
    "id": "efe70ddf"
   },
   "source": [
    "# LOADING DATA"
   ]
  },
  {
   "cell_type": "code",
   "execution_count": null,
   "id": "ca27d924",
   "metadata": {
    "id": "ca27d924"
   },
   "outputs": [],
   "source": [
    "df=pd.read_csv('/content/drive/MyDrive/ford.csv')"
   ]
  },
  {
   "cell_type": "code",
   "execution_count": null,
   "id": "a7f17e44",
   "metadata": {
    "colab": {
     "base_uri": "https://localhost:8080/",
     "height": 206
    },
    "id": "a7f17e44",
    "outputId": "dfb6adac-3dcd-4ede-c273-1eadb88b0096"
   },
   "outputs": [],
   "source": [
    "df.head()"
   ]
  },
  {
   "cell_type": "markdown",
   "id": "3a924b39",
   "metadata": {
    "id": "3a924b39"
   },
   "source": [
    "# EDA & PRE-PROCESSING"
   ]
  },
  {
   "cell_type": "code",
   "execution_count": null,
   "id": "99d0f635",
   "metadata": {
    "colab": {
     "base_uri": "https://localhost:8080/"
    },
    "id": "99d0f635",
    "outputId": "032bbc05-a15b-429f-aebb-aa0efa1ee87b"
   },
   "outputs": [],
   "source": [
    "df.shape #There are 17,966 rows and 9 columns."
   ]
  },
  {
   "cell_type": "code",
   "execution_count": null,
   "id": "2432a9fd",
   "metadata": {
    "colab": {
     "base_uri": "https://localhost:8080/"
    },
    "id": "2432a9fd",
    "outputId": "28661972-4320-4ed9-b57a-8e3d095f0a7d"
   },
   "outputs": [],
   "source": [
    "df.columns"
   ]
  },
  {
   "cell_type": "code",
   "execution_count": null,
   "id": "d0b7f4d0",
   "metadata": {
    "colab": {
     "base_uri": "https://localhost:8080/"
    },
    "id": "d0b7f4d0",
    "outputId": "76a47222-d187-42b2-cba0-3d877fecd414"
   },
   "outputs": [],
   "source": [
    "df.dtypes"
   ]
  },
  {
   "cell_type": "code",
   "execution_count": null,
   "id": "66eb9c55",
   "metadata": {
    "colab": {
     "base_uri": "https://localhost:8080/"
    },
    "id": "66eb9c55",
    "outputId": "c657170e-b65a-4a3a-e5dc-c31bd794ac0c"
   },
   "outputs": [],
   "source": [
    "df.isnull().sum() #No null values are present."
   ]
  },
  {
   "cell_type": "code",
   "execution_count": null,
   "id": "697995e1",
   "metadata": {
    "colab": {
     "base_uri": "https://localhost:8080/"
    },
    "id": "697995e1",
    "outputId": "35d96e0d-b338-410d-b190-0b62308cbb2d",
    "scrolled": true
   },
   "outputs": [],
   "source": [
    "df.info()"
   ]
  },
  {
   "cell_type": "code",
   "execution_count": null,
   "id": "f76e7681",
   "metadata": {
    "colab": {
     "base_uri": "https://localhost:8080/",
     "height": 300
    },
    "id": "f76e7681",
    "outputId": "fd00c36a-a6ad-40c6-a868-bd1aab608a8a"
   },
   "outputs": [],
   "source": [
    "df.describe()"
   ]
  },
  {
   "cell_type": "markdown",
   "id": "868487cb",
   "metadata": {
    "id": "868487cb"
   },
   "source": [
    "1. The average price of car is $12279.535.\n",
    "\n",
    "2. The average mileage given by a car is 23362.608.\n",
    "\n",
    "3. The average annual tax is $113.32.\n",
    "\n",
    "4. The average mile per gallon is 57.90.\n",
    "5. The average engine size is 1.35."
   ]
  },
  {
   "cell_type": "code",
   "execution_count": null,
   "id": "d585b952",
   "metadata": {
    "colab": {
     "base_uri": "https://localhost:8080/"
    },
    "id": "d585b952",
    "outputId": "e0590591-88d2-4f51-9416-44c9028374c7"
   },
   "outputs": [],
   "source": [
    "df.duplicated().sum() #There are 154 duplicates."
   ]
  },
  {
   "cell_type": "code",
   "execution_count": null,
   "id": "954b61da",
   "metadata": {
    "id": "954b61da"
   },
   "outputs": [],
   "source": [
    "df.drop_duplicates(inplace=True) #Dropping the duplicates."
   ]
  },
  {
   "cell_type": "code",
   "execution_count": null,
   "id": "2ca8afb2",
   "metadata": {
    "colab": {
     "base_uri": "https://localhost:8080/"
    },
    "id": "2ca8afb2",
    "outputId": "e6da52f3-1aff-451d-cce9-b419d9235f8b"
   },
   "outputs": [],
   "source": [
    "df.duplicated().sum()"
   ]
  },
  {
   "cell_type": "code",
   "execution_count": null,
   "id": "c4df8a34",
   "metadata": {
    "colab": {
     "base_uri": "https://localhost:8080/"
    },
    "id": "c4df8a34",
    "outputId": "6cdbabe3-7b3c-4f6a-d605-ee0d5ed99019"
   },
   "outputs": [],
   "source": [
    "df.nunique()"
   ]
  },
  {
   "cell_type": "code",
   "execution_count": null,
   "id": "e12094f2",
   "metadata": {
    "colab": {
     "base_uri": "https://localhost:8080/"
    },
    "id": "e12094f2",
    "outputId": "952a2829-9e68-4c9b-f355-b184c1068462"
   },
   "outputs": [],
   "source": [
    "df['model'].unique()"
   ]
  },
  {
   "cell_type": "code",
   "execution_count": null,
   "id": "62c7bbb8",
   "metadata": {
    "colab": {
     "base_uri": "https://localhost:8080/"
    },
    "id": "62c7bbb8",
    "outputId": "b613505d-4d35-4e5c-f0b9-b13eb274b0d7"
   },
   "outputs": [],
   "source": [
    "df['transmission'].unique()"
   ]
  },
  {
   "cell_type": "code",
   "execution_count": null,
   "id": "2cd57d01",
   "metadata": {
    "colab": {
     "base_uri": "https://localhost:8080/"
    },
    "id": "2cd57d01",
    "outputId": "4810a6b4-609d-478f-b763-14cf8cecdb06"
   },
   "outputs": [],
   "source": [
    "df['fuelType'].unique()"
   ]
  },
  {
   "cell_type": "code",
   "execution_count": null,
   "id": "57040819",
   "metadata": {
    "colab": {
     "base_uri": "https://localhost:8080/"
    },
    "id": "57040819",
    "outputId": "3865917d-dd23-4529-d30b-69718af35885"
   },
   "outputs": [],
   "source": [
    "df.value_counts()"
   ]
  },
  {
   "cell_type": "code",
   "execution_count": null,
   "id": "bb9b8392",
   "metadata": {
    "colab": {
     "base_uri": "https://localhost:8080/"
    },
    "id": "bb9b8392",
    "outputId": "02572c00-77fe-4291-ce65-87ed5949d6ff"
   },
   "outputs": [],
   "source": [
    "df['model'].value_counts()"
   ]
  },
  {
   "cell_type": "code",
   "execution_count": null,
   "id": "1b7d84c5",
   "metadata": {
    "colab": {
     "base_uri": "https://localhost:8080/"
    },
    "id": "1b7d84c5",
    "outputId": "1eea1d26-fc9a-4684-8174-357277dc3dc7"
   },
   "outputs": [],
   "source": [
    "df['transmission'].value_counts()"
   ]
  },
  {
   "cell_type": "code",
   "execution_count": null,
   "id": "2ca0bd7f",
   "metadata": {
    "colab": {
     "base_uri": "https://localhost:8080/"
    },
    "id": "2ca0bd7f",
    "outputId": "39a13ed3-88a3-4480-b1f5-60223f8b6a0b"
   },
   "outputs": [],
   "source": [
    "df['fuelType'].value_counts()"
   ]
  },
  {
   "cell_type": "markdown",
   "id": "39059873",
   "metadata": {
    "id": "39059873"
   },
   "source": [
    "# VISUALIZATION"
   ]
  },
  {
   "cell_type": "markdown",
   "id": "95590572",
   "metadata": {
    "id": "95590572"
   },
   "source": [
    "# COUNT PLOT"
   ]
  },
  {
   "cell_type": "code",
   "execution_count": null,
   "id": "0deb0d79",
   "metadata": {
    "colab": {
     "base_uri": "https://localhost:8080/",
     "height": 564
    },
    "id": "0deb0d79",
    "outputId": "62c31448-566e-47e7-ada8-42152b99483b",
    "scrolled": false
   },
   "outputs": [],
   "source": [
    "plt.figure(figsize=(8,4))\n",
    "sns.countplot(x='model',data=df,order=df['model'].value_counts().sort_values(ascending=False).index)\n",
    "plt.title('Number of Cars')\n",
    "\n",
    "plt.xlabel('Model',size = 10)\n",
    "plt.ylabel('Count',size = 10)\n",
    "\n",
    "plt.xticks(rotation=90)\n",
    "\n",
    "plt.xticks(fontsize=10)\n",
    "plt.yticks(fontsize=10)\n",
    "\n",
    "plt.show()"
   ]
  },
  {
   "cell_type": "markdown",
   "id": "48447ca8",
   "metadata": {
    "id": "48447ca8"
   },
   "source": [
    "Top 3 manufactured Cars are Fiesta, Focus, Kuga.\n",
    "\n",
    "Maximum manufactured cars are Fiesta which are around 6500.\n",
    "\n",
    "Least manufactured cars are Ranger, Escort, Transit Tourneo and Focus."
   ]
  },
  {
   "cell_type": "code",
   "execution_count": null,
   "id": "ec75a6a2",
   "metadata": {
    "colab": {
     "base_uri": "https://localhost:8080/",
     "height": 529
    },
    "id": "ec75a6a2",
    "outputId": "43176fb8-2c53-441c-a8e1-e3d64637ff31"
   },
   "outputs": [],
   "source": [
    "sns.countplot(x='transmission',data=df)\n",
    "plt.title('Count of Transmission')\n",
    "\n",
    "plt.xlabel('transmission',size = 10)\n",
    "plt.ylabel('Count',size = 10)\n",
    "\n",
    "plt.xticks(rotation=90)\n",
    "\n",
    "plt.xticks(fontsize=10)\n",
    "plt.yticks(fontsize=10)\n",
    "\n",
    "plt.show()"
   ]
  },
  {
   "cell_type": "markdown",
   "id": "220e45a4",
   "metadata": {
    "id": "220e45a4"
   },
   "source": [
    "As observed, majority of the car transmission is manuel which is more than 15000."
   ]
  },
  {
   "cell_type": "code",
   "execution_count": null,
   "id": "27047cd2",
   "metadata": {
    "colab": {
     "base_uri": "https://localhost:8080/",
     "height": 509
    },
    "id": "27047cd2",
    "outputId": "557f731a-5098-491c-ddb9-7e7e82ab8938",
    "scrolled": false
   },
   "outputs": [],
   "source": [
    "sns.countplot(x='fuelType',data=df)\n",
    "plt.title('Count of Type of Fuel')\n",
    "\n",
    "plt.xlabel('fuelType',size = 10)\n",
    "plt.ylabel('Count',size = 10)\n",
    "\n",
    "plt.xticks(rotation=90)\n",
    "\n",
    "plt.xticks(fontsize=10)\n",
    "plt.yticks(fontsize=10)\n",
    "plt.show()"
   ]
  },
  {
   "cell_type": "markdown",
   "id": "c67f4330",
   "metadata": {
    "id": "c67f4330"
   },
   "source": [
    "Most of the cars fuel type is petrol which is around 12000.\n",
    "Second most used fuel type is diesel which is around 5700."
   ]
  },
  {
   "cell_type": "markdown",
   "id": "b89c4f05",
   "metadata": {
    "id": "b89c4f05"
   },
   "source": [
    "# SCATTER PLOT"
   ]
  },
  {
   "cell_type": "code",
   "execution_count": null,
   "id": "2630fc4a",
   "metadata": {
    "colab": {
     "base_uri": "https://localhost:8080/",
     "height": 544
    },
    "id": "2630fc4a",
    "outputId": "e5264c4f-1cdb-4fb7-e92c-7f68ba7ff5b3"
   },
   "outputs": [],
   "source": [
    "plt.figure(figsize=(8,4))\n",
    "plt.scatter(x='model', y='mileage', data=df)\n",
    "sns.set_theme(style=\"darkgrid\")\n",
    "plt.title('Relation between Milage and Model of Cars')\n",
    "plt.xticks(rotation=90)\n",
    "\n",
    "plt.show()"
   ]
  },
  {
   "cell_type": "markdown",
   "id": "363d6525",
   "metadata": {
    "id": "363d6525"
   },
   "source": [
    "The above scatter plot are the mileages given by the model of car.\n",
    "1. The highest mileage is given by Focus which is more than 175000.\n",
    "2. In many of the models average milage is between 25000 to 50000."
   ]
  },
  {
   "cell_type": "code",
   "execution_count": null,
   "id": "d792a7ad",
   "metadata": {
    "colab": {
     "base_uri": "https://localhost:8080/",
     "height": 565
    },
    "id": "d792a7ad",
    "outputId": "fb848314-0010-4847-ce93-8e6daaaef1da"
   },
   "outputs": [],
   "source": [
    "plt.figure(figsize=(8,4))\n",
    "plt.scatter(x='model', y='tax', data=df)\n",
    "sns.set_theme(style=\"darkgrid\")\n",
    "plt.title('Annual Tax based on the Model of Cars')\n",
    "plt.xticks(rotation=90)\n",
    "\n",
    "plt.show()"
   ]
  },
  {
   "cell_type": "markdown",
   "id": "a8d77750",
   "metadata": {
    "id": "a8d77750"
   },
   "source": [
    "The above scatter plot is the annual tax upon the model of the car.\n",
    "1. The highest annual tax is on Mustang which is $580.\n",
    "\n",
    "2. The average tax is between $100-200.\n",
    "\n",
    "3. Many car models such as Fiesta, Focus, Mondeo and B-MAX most of them has no taxes."
   ]
  },
  {
   "cell_type": "code",
   "execution_count": null,
   "id": "a872af19",
   "metadata": {
    "colab": {
     "base_uri": "https://localhost:8080/",
     "height": 565
    },
    "id": "a872af19",
    "outputId": "a0e3fce4-ed6d-4785-a9aa-eb57a3d2bd3c",
    "scrolled": false
   },
   "outputs": [],
   "source": [
    "plt.figure(figsize=(8,4))\n",
    "plt.scatter(x='model', y='mpg', data=df)\n",
    "sns.set_theme(style=\"darkgrid\")\n",
    "plt.title('Miles Per Gallon based on Model of Cars')\n",
    "plt.xticks(rotation=90)\n",
    "\n",
    "plt.show()"
   ]
  },
  {
   "cell_type": "markdown",
   "id": "45ba5fce",
   "metadata": {
    "id": "45ba5fce"
   },
   "source": [
    "The above scatter plot is of MPG given by the cars.\n",
    "1. Highest MPG is 200 which is given by Kuga.\n",
    "2. The average MPG is between 30-60 MPG.\n",
    "3. The least MPG is 20.8MPG which is given by Mustang."
   ]
  },
  {
   "cell_type": "code",
   "execution_count": null,
   "id": "a499a6d8",
   "metadata": {
    "colab": {
     "base_uri": "https://localhost:8080/",
     "height": 597
    },
    "id": "a499a6d8",
    "outputId": "a1935900-4adc-4d3d-e1fb-5b590f5dd22e",
    "scrolled": false
   },
   "outputs": [],
   "source": [
    "plt.figure(figsize=(10,6))\n",
    "sns.scatterplot(x='price', y='model', data=df)\n",
    "plt.title('Price Based on Model of the Car')\n",
    "\n",
    "plt.xlabel('Price',size = 10)\n",
    "plt.ylabel('Model of car',size = 10)\n",
    "\n",
    "plt.xticks(rotation=90)\n",
    "\n",
    "plt.xticks(fontsize=10)\n",
    "plt.yticks(fontsize=10)\n",
    "\n",
    "plt.show()"
   ]
  },
  {
   "cell_type": "markdown",
   "id": "4c061e78",
   "metadata": {
    "id": "4c061e78"
   },
   "source": [
    "The above scatter plot is of the prices of various models of cars.\n",
    "1. The highest price is of Focus which is above $50,000.\n",
    "\n",
    "2. Few of the cars are priced below $10,000.\n",
    "\n",
    "3. The average prices of cars are between $10,000-20,000."
   ]
  },
  {
   "cell_type": "markdown",
   "id": "e9ff76f7",
   "metadata": {
    "id": "e9ff76f7"
   },
   "source": [
    "# CATPLOT"
   ]
  },
  {
   "cell_type": "code",
   "execution_count": null,
   "id": "e2e1dd8f",
   "metadata": {
    "colab": {
     "base_uri": "https://localhost:8080/",
     "height": 539
    },
    "id": "e2e1dd8f",
    "outputId": "6fa43243-16ff-4084-a670-bff7a0cff5a7",
    "scrolled": false
   },
   "outputs": [],
   "source": [
    "sns.catplot(x='year', y='price', data=df)\n",
    "plt.title('Price per Year')\n",
    "\n",
    "plt.xlabel('Year',size = 10)\n",
    "plt.ylabel('Price',size = 10)\n",
    "\n",
    "plt.xticks(rotation=90)\n",
    "\n",
    "plt.xticks(fontsize=10)\n",
    "plt.yticks(fontsize=10)\n",
    "\n",
    "plt.show()"
   ]
  },
  {
   "cell_type": "markdown",
   "id": "aa252b2b",
   "metadata": {
    "id": "aa252b2b"
   },
   "source": [
    "The above catplot is the relation between the prices of cars per year.\n",
    "1. The highest priced car which is more than $50,000 is in year 2018.\n",
    "\n",
    "2. As we can see the prices of cars rises each year with more addition of cars each year.\n",
    "\n",
    "3. The lowest priced car is of $3000 in the year 1996."
   ]
  },
  {
   "cell_type": "markdown",
   "id": "041c0287",
   "metadata": {
    "id": "041c0287"
   },
   "source": [
    "# HEAT MAP"
   ]
  },
  {
   "cell_type": "code",
   "execution_count": null,
   "id": "89de7466",
   "metadata": {
    "colab": {
     "base_uri": "https://localhost:8080/",
     "height": 440
    },
    "id": "89de7466",
    "outputId": "e7a6b921-0168-42fe-ae01-c42df4b45655"
   },
   "outputs": [],
   "source": [
    "x= df\n",
    "corr_df=x.corr(method='pearson')\n",
    "sns.heatmap(corr_df,vmax=1.0,vmin=-1.0,annot=True)\n",
    "plt.show()"
   ]
  },
  {
   "cell_type": "code",
   "execution_count": null,
   "id": "46ed1d2f",
   "metadata": {
    "id": "46ed1d2f"
   },
   "outputs": [],
   "source": [
    "#Transforming Categorical data into Numerical data.\n",
    "\n",
    "from sklearn.preprocessing import LabelEncoder\n",
    "le=LabelEncoder()\n",
    "\n",
    "df['model']=le.fit_transform(df['model'])\n",
    "df['transmission']=le.fit_transform(df['transmission'])\n",
    "df['fuelType']=le.fit_transform(df['fuelType'])"
   ]
  },
  {
   "cell_type": "code",
   "execution_count": null,
   "id": "f17102f2",
   "metadata": {
    "colab": {
     "base_uri": "https://localhost:8080/",
     "height": 206
    },
    "id": "f17102f2",
    "outputId": "c52ca485-b85f-493c-8a1a-ca0f95ed2be8"
   },
   "outputs": [],
   "source": [
    "df.head()"
   ]
  },
  {
   "cell_type": "code",
   "execution_count": null,
   "id": "42c0fc6a",
   "metadata": {
    "id": "42c0fc6a"
   },
   "outputs": [],
   "source": [
    "# Creating x and y variables.\n",
    "x = df.drop('price', axis=1)\n",
    "y = df['price']"
   ]
  },
  {
   "cell_type": "code",
   "execution_count": null,
   "id": "71152452",
   "metadata": {
    "colab": {
     "base_uri": "https://localhost:8080/"
    },
    "id": "71152452",
    "outputId": "d81c6fb8-49fd-4c97-c61a-24a0b25799b0"
   },
   "outputs": [],
   "source": [
    "from sklearn.preprocessing import \n",
    "scaler= StandardScaler()\n",
    "scaler.fit(x)\n",
    "x=scaler.transform(x)\n",
    "print(x)"
   ]
  },
  {
   "cell_type": "code",
   "execution_count": null,
   "id": "c6287acd",
   "metadata": {
    "id": "c6287acd"
   },
   "outputs": [],
   "source": [
    "from sklearn.model_selection import train_test_split\n",
    "\n",
    "#split the data into  the test and train\n",
    "x_train, x_test, y_train, y_test=train_test_split(x,y,test_size=0.2, random_state=10)"
   ]
  },
  {
   "cell_type": "code",
   "execution_count": null,
   "id": "a4d295a5",
   "metadata": {
    "colab": {
     "base_uri": "https://localhost:8080/"
    },
    "id": "a4d295a5",
    "outputId": "24f29953-6f58-42d9-b7b8-b5eb2cb31d64"
   },
   "outputs": [],
   "source": [
    "print(x_train.shape)\n",
    "print(y_train.shape)\n",
    "print(x_test.shape)\n",
    "print(y_test.shape)\n",
    "#As per industrial standard, test_size is 20% for less than 1000 observsations and 30% for greater than 1000 observations."
   ]
  },
  {
   "cell_type": "markdown",
   "id": "68175a87",
   "metadata": {
    "id": "68175a87"
   },
   "source": [
    "# LINEAR REGRESSION"
   ]
  },
  {
   "cell_type": "code",
   "execution_count": null,
   "id": "47b099ff",
   "metadata": {
    "colab": {
     "base_uri": "https://localhost:8080/"
    },
    "id": "47b099ff",
    "outputId": "6270cd08-8723-4601-8d3b-81939d615f60"
   },
   "outputs": [],
   "source": [
    "from sklearn.linear_model import LinearRegression\n",
    "#create a model object\n",
    "lm=LinearRegression()\n",
    "#train the model object\n",
    "lm.fit(x_train,y_train)\n",
    "\n",
    "# print intercept and coefficeint\n",
    "print(lm.intercept_)\n",
    "print(lm.coef_)"
   ]
  },
  {
   "cell_type": "code",
   "execution_count": null,
   "id": "c5a31aa8",
   "metadata": {
    "colab": {
     "base_uri": "https://localhost:8080/"
    },
    "id": "c5a31aa8",
    "outputId": "e36cff95-1c53-4c93-ec8d-cccd4c2c314d"
   },
   "outputs": [],
   "source": [
    "y_pred=lm.predict(x_test)\n",
    "print(y_pred)"
   ]
  },
  {
   "cell_type": "code",
   "execution_count": null,
   "id": "6b9da563",
   "metadata": {
    "colab": {
     "base_uri": "https://localhost:8080/"
    },
    "id": "6b9da563",
    "outputId": "f4d34bea-b901-4621-c644-e26ad662119f"
   },
   "outputs": [],
   "source": [
    "from sklearn.metrics import r2_score,mean_absolute_error, mean_squared_error, mean_squared_error\n",
    "\n",
    "mae= mean_absolute_error(y_test,y_pred)\n",
    "print(\"MAE:\", mae)\n",
    "\n",
    "mse= mean_squared_error(y_test,y_pred)\n",
    "print(\"MSE:\", mse)\n",
    "\n",
    "rmse= np.sqrt(mean_squared_error(y_test,y_pred))\n",
    "print(\"RMSE:\", rmse)\n",
    "\n",
    "r2 = r2_score(y_test,y_pred)\n",
    "print(\"R2:\", r2)"
   ]
  },
  {
   "cell_type": "markdown",
   "id": "77115bf3",
   "metadata": {
    "id": "77115bf3"
   },
   "source": [
    "# DECISION TREE"
   ]
  },
  {
   "cell_type": "code",
   "execution_count": null,
   "id": "0fef1a67",
   "metadata": {
    "id": "0fef1a67"
   },
   "outputs": [],
   "source": [
    "from sklearn.tree import DecisionTreeRegressor\n",
    "\n",
    "model_DecisionTree=DecisionTreeRegressor(random_state=10)\n",
    "\n",
    "#fit the model on data and predict the values\n",
    "\n",
    "model_DecisionTree.fit(x_train,y_train)\n",
    "\n",
    "pred3=model_DecisionTree.predict(x_test)\n",
    "\n",
    "#print(y_pred)\n",
    "#print(list(zip(y_test,y_pred)))"
   ]
  },
  {
   "cell_type": "code",
   "execution_count": null,
   "id": "20b38dae",
   "metadata": {
    "colab": {
     "base_uri": "https://localhost:8080/"
    },
    "id": "20b38dae",
    "outputId": "35763ea6-f433-45bd-bc96-50c344e25b76",
    "scrolled": true
   },
   "outputs": [],
   "source": [
    "from sklearn.metrics import r2_score,mean_absolute_error, mean_squared_error, mean_squared_error\n",
    "\n",
    "mae= mean_absolute_error(y_test,pred3)\n",
    "print(\"MAE:\", mae)\n",
    "\n",
    "mse= mean_squared_error(y_test,pred3)\n",
    "print(\"MSE:\", mse)\n",
    "\n",
    "rmse= np.sqrt(mean_squared_error(y_test,pred3))\n",
    "print(\"RMSE:\", rmse)\n",
    "\n",
    "r2 = r2_score(y_test,pred3)\n",
    "print(\"R2:\", r2)"
   ]
  },
  {
   "cell_type": "markdown",
   "id": "99451b48",
   "metadata": {
    "id": "99451b48"
   },
   "source": [
    "# RANDOM FOREST"
   ]
  },
  {
   "cell_type": "code",
   "execution_count": null,
   "id": "b95340db",
   "metadata": {
    "id": "b95340db"
   },
   "outputs": [],
   "source": [
    "from sklearn.ensemble import RandomForestRegressor\n",
    "\n",
    "model_RandomForest=RandomForestRegressor(n_estimators=100, random_state=10)\n",
    "\n",
    "##fit the model in the data and predict the values\n",
    "\n",
    "model_RandomForest.fit(x_train,y_train)\n",
    "\n",
    "y_pred1=model_RandomForest.predict(x_test)"
   ]
  },
  {
   "cell_type": "code",
   "execution_count": null,
   "id": "51f788de",
   "metadata": {
    "colab": {
     "base_uri": "https://localhost:8080/"
    },
    "id": "51f788de",
    "outputId": "02c96ff4-ec8d-463f-ff1f-634e7c78f788"
   },
   "outputs": [],
   "source": [
    "from sklearn.metrics import r2_score,mean_absolute_error, mean_squared_error, mean_squared_error\n",
    "\n",
    "mae= mean_absolute_error(y_test,y_pred1)\n",
    "print(\"MAE:\", mae)\n",
    "\n",
    "mse= mean_squared_error(y_test,y_pred1)\n",
    "print(\"MSE:\", mse)\n",
    "\n",
    "rmse= np.sqrt(mean_squared_error(y_test,y_pred1))\n",
    "print(\"RMSE:\", rmse)\n",
    "\n",
    "r2 = r2_score(y_test,y_pred1)\n",
    "print(\"R2:\", r2)"
   ]
  },
  {
   "cell_type": "markdown",
   "id": "le3iy7yMaaH1",
   "metadata": {
    "id": "le3iy7yMaaH1"
   },
   "source": [
    "# SUPPORT VECTOR REGRESSION"
   ]
  },
  {
   "cell_type": "code",
   "execution_count": null,
   "id": "708b8882",
   "metadata": {
    "id": "708b8882",
    "scrolled": false
   },
   "outputs": [],
   "source": [
    "from sklearn.svm import SVR\n",
    "regressor = SVR(kernel='linear')\n",
    "regressor.fit(x,y)\n",
    "pred4 = regressor.predict(x_test)\n"
   ]
  },
  {
   "cell_type": "code",
   "execution_count": null,
   "id": "57c9d79b",
   "metadata": {
    "colab": {
     "base_uri": "https://localhost:8080/"
    },
    "id": "57c9d79b",
    "outputId": "3699fb68-1306-4ccc-dd8e-8bb55aea149c"
   },
   "outputs": [],
   "source": [
    "from sklearn.metrics import r2_score,mean_absolute_error, mean_squared_error, mean_squared_error\n",
    "\n",
    "mae= mean_absolute_error(y_test,pred4)\n",
    "print(\"MAE:\", mae)\n",
    "\n",
    "mse= mean_squared_error(y_test,pred4)\n",
    "print(\"MSE:\", mse)\n",
    "\n",
    "rmse= np.sqrt(mean_squared_error(y_test,pred4))\n",
    "print(\"RMSE:\", rmse)\n",
    "\n",
    "r2 = r2_score(y_test,pred4)\n",
    "print(\"R2:\", r2)"
   ]
  },
  {
   "cell_type": "markdown",
   "id": "7c67ca6d",
   "metadata": {
    "id": "7c67ca6d"
   },
   "source": [
    "# XGBOOST"
   ]
  },
  {
   "cell_type": "code",
   "execution_count": null,
   "id": "e94a281b",
   "metadata": {
    "colab": {
     "base_uri": "https://localhost:8080/",
     "height": 248
    },
    "id": "e94a281b",
    "outputId": "e6a8d4f4-469f-4133-e09a-5b237551b315"
   },
   "outputs": [],
   "source": [
    "from xgboost import XGBRegressor\n",
    "xgb = XGBRegressor()\n",
    "xgb.fit(x_train, y_train)"
   ]
  },
  {
   "cell_type": "code",
   "execution_count": null,
   "id": "bcd5e845",
   "metadata": {
    "id": "bcd5e845"
   },
   "outputs": [],
   "source": [
    "pred2=xgb.predict(x_test)"
   ]
  },
  {
   "cell_type": "code",
   "execution_count": null,
   "id": "ad93ad5c",
   "metadata": {
    "colab": {
     "base_uri": "https://localhost:8080/"
    },
    "id": "ad93ad5c",
    "outputId": "8ec77575-939b-41bc-82bb-faddcb844d88"
   },
   "outputs": [],
   "source": [
    "from sklearn.metrics import r2_score,mean_absolute_error, mean_squared_error, mean_squared_error\n",
    "\n",
    "mae= mean_absolute_error(y_test,pred2)\n",
    "print(\"MAE:\", mae)\n",
    "\n",
    "mse= mean_squared_error(y_test,pred2)\n",
    "print(\"MSE:\", mse)\n",
    "\n",
    "rmse= np.sqrt(mean_squared_error(y_test,pred2))\n",
    "print(\"RMSE:\", rmse)\n",
    "\n",
    "r2 = r2_score(y_test,pred2)\n",
    "print(\"R2:\", r2)"
   ]
  },
  {
   "cell_type": "markdown",
   "id": "3kYL8g7Fcfh7",
   "metadata": {
    "id": "3kYL8g7Fcfh7"
   },
   "source": [
    "# HYPER PARAMETER TUNING\n",
    "\n",
    "\n",
    "\n",
    "\n"
   ]
  },
  {
   "cell_type": "markdown",
   "id": "XLI0DgH9c0Dy",
   "metadata": {
    "id": "XLI0DgH9c0Dy"
   },
   "source": [
    "# GRID SEARCH CV\n",
    "\n"
   ]
  },
  {
   "cell_type": "code",
   "execution_count": null,
   "id": "0cb6842c",
   "metadata": {
    "colab": {
     "base_uri": "https://localhost:8080/"
    },
    "id": "0cb6842c",
    "outputId": "83b79c0e-e187-4075-dc0d-e9787e12f685"
   },
   "outputs": [],
   "source": [
    "from sklearn.ensemble import RandomForestRegressor\n",
    "from sklearn.model_selection import GridSearchCV\n",
    "\n",
    "param_grid = {\n",
    "    'n_estimators': [100, 200, 300],\n",
    "    'max_depth': [None, 10, 20, 30],\n",
    "    'min_samples_split': [2, 5, 10],\n",
    "    'min_samples_leaf': [1, 2, 4]\n",
    "}\n",
    "\n",
    "rf = RandomForestRegressor()\n",
    "\n",
    "grid_search = GridSearchCV(estimator=rf, param_grid=param_grid, cv=5, n_jobs=-1, verbose=2)\n",
    "grid_search.fit(x_train, y_train)\n",
    "\n",
    "\n",
    "best_params = grid_search.best_params_\n",
    "best_rf_model = grid_search.best_estimator_"
   ]
  },
  {
   "cell_type": "code",
   "execution_count": null,
   "id": "GK1BKoJMIv_m",
   "metadata": {
    "colab": {
     "base_uri": "https://localhost:8080/"
    },
    "id": "GK1BKoJMIv_m",
    "outputId": "4218c5b6-f1a8-48b4-ae69-4199ceb72195"
   },
   "outputs": [],
   "source": [
    "from sklearn.metrics import r2_score,mean_absolute_error, mean_squared_error, mean_squared_error\n",
    "\n",
    "mae= mean_absolute_error(y_test,y_predG)\n",
    "print(\"MAE:\", mae)\n",
    "\n",
    "mse= mean_squared_error(y_test,y_predG)\n",
    "print(\"MSE:\", mse)\n",
    "\n",
    "rmse= np.sqrt(mean_squared_error(y_test,y_predG))\n",
    "print(\"RMSE:\", rmse)\n",
    "\n",
    "r2 = r2_score(y_test,y_predG)\n",
    "print(\"R2:\", r2)"
   ]
  },
  {
   "cell_type": "markdown",
   "id": "fbd6da2e",
   "metadata": {
    "id": "fbd6da2e"
   },
   "source": [
    "# ALL MODELS TABLED"
   ]
  },
  {
   "cell_type": "code",
   "execution_count": null,
   "id": "69ad8184",
   "metadata": {
    "id": "69ad8184"
   },
   "outputs": [],
   "source": [
    "final_df = pd.DataFrame({'Models':['lm','model_DecisionTree','model_RandomForest','regressor','xgb','rf'],\n",
    "                        'MAE':[mean_absolute_error(y_test,y_pred),\n",
    "                                   mean_absolute_error(y_test,pred3),\n",
    "                                   mean_absolute_error(y_test,y_pred1),\n",
    "                                   mean_absolute_error(y_test,pred4),\n",
    "                                   mean_absolute_error(y_test,pred2),\n",
    "                                   mean_absolute_error(y_test,y_predG)],\n",
    "                        'MSE':[mean_squared_error(y_test,y_pred),\n",
    "                                   mean_squared_error(y_test,pred3),\n",
    "                                   mean_squared_error(y_test,y_pred1),\n",
    "                                   mean_squared_error(y_test,pred4),\n",
    "                                   mean_squared_error(y_test,pred2),\n",
    "                                   mean_squared_error(y_test,y_predG)],\n",
    "                        'RMSE':[np.sqrt(mean_squared_error(y_test,y_pred)),\n",
    "                                   np.sqrt(mean_squared_error(y_test,pred3)),\n",
    "                                   np.sqrt(mean_squared_error(y_test,y_pred1)),\n",
    "                                   np.sqrt(mean_squared_error(y_test,pred4)),\n",
    "                                   np.sqrt(mean_squared_error(y_test,pred2)),\n",
    "                                   np.sqrt(mean_squared_error(y_test,y_predG))],\n",
    "                        'R2':[r2_score(y_test,y_pred),\n",
    "                                   r2_score(y_test,pred3),\n",
    "                                   r2_score(y_test,y_pred1),\n",
    "                                   r2_score(y_test,pred4),\n",
    "                                   r2_score(y_test,pred2),\n",
    "                                   r2_score(y_test,y_predG)]})"
   ]
  },
  {
   "cell_type": "code",
   "execution_count": null,
   "id": "d13a4149",
   "metadata": {
    "colab": {
     "base_uri": "https://localhost:8080/",
     "height": 237
    },
    "id": "d13a4149",
    "outputId": "21a28c7a-5eee-470c-d860-46656e462074"
   },
   "outputs": [],
   "source": [
    "final_df"
   ]
  },
  {
   "cell_type": "markdown",
   "id": "3023a6c4",
   "metadata": {
    "id": "3023a6c4"
   },
   "source": [
    "# PREDICTED VALUES BY MODELS"
   ]
  },
  {
   "cell_type": "code",
   "execution_count": null,
   "id": "0223bad2",
   "metadata": {
    "colab": {
     "base_uri": "https://localhost:8080/",
     "height": 423
    },
    "id": "0223bad2",
    "outputId": "ab2cb8f3-b4c5-48fd-b5b6-642586c481c7",
    "scrolled": false
   },
   "outputs": [],
   "source": [
    "#linear regression\n",
    "pred_df=pd.DataFrame({'Actual Value':y_test,'Predicted Value':y_pred,'Difference':y_test-y_pred})\n",
    "pred_df"
   ]
  },
  {
   "cell_type": "code",
   "execution_count": null,
   "id": "93b997a2",
   "metadata": {
    "colab": {
     "base_uri": "https://localhost:8080/",
     "height": 423
    },
    "id": "93b997a2",
    "outputId": "18d9b51d-962e-4981-f5aa-d0eb84c3865d"
   },
   "outputs": [],
   "source": [
    "#DecisionTree\n",
    "pred_df=pd.DataFrame({'Actual Value':y_test,'Predicted Value':pred3,'Difference':y_test-pred3})\n",
    "pred_df"
   ]
  },
  {
   "cell_type": "code",
   "execution_count": null,
   "id": "4f2f4ed5",
   "metadata": {
    "colab": {
     "base_uri": "https://localhost:8080/",
     "height": 423
    },
    "id": "4f2f4ed5",
    "outputId": "3bb4ac50-0651-4eb1-8053-516030fa25a5"
   },
   "outputs": [],
   "source": [
    "#RandomForest\n",
    "pred_df=pd.DataFrame({'Actual Value':y_test,'Predicted Value':y_pred1,'Difference':y_test-y_pred1})\n",
    "pred_df"
   ]
  },
  {
   "cell_type": "code",
   "execution_count": null,
   "id": "Emx9yi5Ib-Sr",
   "metadata": {
    "colab": {
     "base_uri": "https://localhost:8080/",
     "height": 423
    },
    "id": "Emx9yi5Ib-Sr",
    "outputId": "297f1342-0b9e-41d5-ee10-84b5f1791ce0"
   },
   "outputs": [],
   "source": [
    "#Support Vector Regression\n",
    "pred_df=pd.DataFrame({'Actual Value':y_test,'Predicted Value':pred4,'Difference':y_test-pred4})\n",
    "pred_df"
   ]
  },
  {
   "cell_type": "code",
   "execution_count": null,
   "id": "40c9c4e8",
   "metadata": {
    "colab": {
     "base_uri": "https://localhost:8080/",
     "height": 423
    },
    "id": "40c9c4e8",
    "outputId": "95680c7f-ac37-48b2-e074-03971ba02de8"
   },
   "outputs": [],
   "source": [
    "#XGBoost\n",
    "pred_df=pd.DataFrame({'Actual Value':y_test,'Predicted Value':pred2,'Difference':y_test-pred2})\n",
    "pred_df"
   ]
  },
  {
   "cell_type": "code",
   "execution_count": null,
   "id": "fbd9ca30",
   "metadata": {
    "colab": {
     "base_uri": "https://localhost:8080/",
     "height": 423
    },
    "id": "fbd9ca30",
    "outputId": "261314e1-ae72-4a8a-cfa3-9671aa4d318a"
   },
   "outputs": [],
   "source": [
    "#Tuned RandomForest\n",
    "pred_df=pd.DataFrame({'Actual Value':y_test,'Predicted Value':y_predG,'Difference':y_test-y_predG})\n",
    "pred_df"
   ]
  },
  {
   "cell_type": "markdown",
   "id": "R5Yvg9Z1RlfF",
   "metadata": {
    "id": "R5Yvg9Z1RlfF"
   },
   "source": [
    "# SUMMARY & CONCLUSION"
   ]
  },
  {
   "cell_type": "markdown",
   "id": "wvYOSMV_R7cI",
   "metadata": {
    "id": "wvYOSMV_R7cI"
   },
   "source": [
    "The dataset is on automobile car price prediction of ford.\n",
    "\n",
    "We have loaded the libraries and data and performed EDA in which:-\n",
    "1.There are 17,955 rows and 9 columns.\n",
    "2.No null values\n",
    "3.154 Duplicates are present which are dropped.\n",
    "\n",
    "There are no columns to be dropped hence we started the visualizations.\n",
    "\n",
    "For modelling we transformed categorical data into numerical, created x and y variables, standardization and train test split.\n",
    "\n",
    "Algorithms used are :-\n",
    "\n",
    "1.Linear Regression :- [MAE = 1725.308896, MSE = 5.414754e+06, RMSE = 2326.962298, R2 = 0.749437]\n",
    "\n",
    "2.Decision Tree :-[MAE = 1088.506268, MSE = 2.574009e+06, RMSE = 1604.371921, R2 = 0.880890]\n",
    "\n",
    "3.Random Forest :-  [MAE = 889.633243 , MSE = 1.624665e+06, RMSE = 1274.623525, R2 = 0.924820]\n",
    "\n",
    "4.Support Vector Regression :- [MAE = 1735.425563, MSE = 5.789631e+06, RMSE = 2406.165250, R2 = 0.732090]\n",
    "\n",
    "5.XGBoost Regressor :- [MAE = 803.072896, MSE = 1.299842e+06, RMSE = 1140.106075, R2 = 0.939851]\n",
    "\n",
    "6.Tuned Random Forest :- [MAE = 835.592968, MSE = 1.423818e+06, RMSE = 1193.238335, R2 = 0.934114]\n"
   ]
  },
  {
   "cell_type": "code",
   "execution_count": null,
   "id": "ff35be93",
   "metadata": {},
   "outputs": [],
   "source": []
  }
 ],
 "metadata": {
  "colab": {
   "provenance": []
  },
  "kernelspec": {
   "display_name": "Python 3 (ipykernel)",
   "language": "python",
   "name": "python3"
  },
  "language_info": {
   "codemirror_mode": {
    "name": "ipython",
    "version": 3
   },
   "file_extension": ".py",
   "mimetype": "text/x-python",
   "name": "python",
   "nbconvert_exporter": "python",
   "pygments_lexer": "ipython3",
   "version": "3.10.9"
  }
 },
 "nbformat": 4,
 "nbformat_minor": 5
}
